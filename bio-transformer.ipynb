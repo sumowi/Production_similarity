{
 "cells": [
  {
   "cell_type": "code",
   "execution_count": 1,
   "metadata": {},
   "outputs": [
    {
     "name": "stderr",
     "output_type": "stream",
     "text": [
      "/home/share/mambaforge/envs/biotf/lib/python3.7/site-packages/tqdm/auto.py:21: TqdmWarning: IProgress not found. Please update jupyter and ipywidgets. See https://ipywidgets.readthedocs.io/en/stable/user_install.html\n",
      "  from .autonotebook import tqdm as notebook_tqdm\n",
      "2023-10-20 11:49:18,242\tINFO util.py:90 -- Missing packages: ['ipywidgets']. Run `pip install -U ipywidgets`, then restart the notebook server for rich notebook output.\n"
     ]
    },
    {
     "name": "stdout",
     "output_type": "stream",
     "text": [
      "Use backend in this list :\n",
      "\n",
      "  *   esm1_t34_670M_UR100\n",
      "  *   esm1_t12_85M_UR50S\n",
      "  *   esm1_t6_43M_UR50S\n",
      "  *   esm1b_t33_650M_UR50S\n",
      "  *   esm_msa1_t12_100M_UR50S\n",
      "  *   esm_msa1b_t12_100M_UR50S\n",
      "  *   esm1v_t33_650M_UR90S_1\n",
      "  *   protbert\n",
      "  *   protbert_bfd\n"
     ]
    }
   ],
   "source": [
    "from sklearn.model_selection import train_test_split\n",
    "from biotransformers import BioTransformers\n",
    "BioTransformers.list_backend()"
   ]
  },
  {
   "cell_type": "code",
   "execution_count": null,
   "metadata": {},
   "outputs": [],
   "source": [
    "import pandas as pd\n",
    "data=pd.read_excel(\"./Production_similarity.xlsx\")[['Protein','Sequence','Final product similarity']]\n",
    "data=data.dropna()\n",
    "X=data['Sequence'].to_numpy()\n",
    "y=data['Final product similarity'].to_numpy()\n",
    "\n",
    "bio_trans = BioTransformers(\"esm1_t6_43M_UR50S\", num_gpus=1)\n",
    "train_X,test_X,train_y,text_y=train_test_split(X,y)"
   ]
  },
  {
   "cell_type": "code",
   "execution_count": null,
   "metadata": {},
   "outputs": [],
   "source": [
    "bio_trans.finetune(\n",
    "    train_X,test_X,8,\n",
    "    epochs=10,\n",
    "    # checkpoint ='./check',\n",
    "    accelerator = 'cpu',\n",
    "    save_last_checkpoint=False\n",
    ")"
   ]
  },
  {
   "cell_type": "markdown",
   "metadata": {},
   "source": [
    "esm1_t6_43M_UR50S"
   ]
  },
  {
   "cell_type": "code",
   "execution_count": null,
   "metadata": {},
   "outputs": [],
   "source": [
    "from biotransformers import BioTransformers\n",
    "# 多GPU需要导入\n",
    "# import ray\n",
    "# ray.init()\n",
    "\n",
    "sequences = data['Sequence'].to_list()\n",
    "\n",
    "bio_trans = BioTransformers(\"esm1_t6_43M_UR50S\",num_gpus=1)\n",
    "# bio_trans = BioTransformers(\"esm1b_t33_650M_UR50S\",num_gpus=1)\n",
    "embeddings = bio_trans.compute_embeddings(sequences, pool_mode=(\"mean\"), batch_size=8)\n",
    "\n",
    "# pool_mode\n",
    "# cls : return the <CLS> token embedding in the sequence.\n",
    "# mean : if sequence has shape (num_token, embedding_size), the num_token dimension is averaging and the embedding has shape (num_token,)\n",
    "# full : no pooling function applied, all the embeddings for each sequence are return.\n",
    "\n",
    "embeddings"
   ]
  },
  {
   "cell_type": "markdown",
   "metadata": {},
   "source": [
    "Pseudo-Loglikelihood"
   ]
  },
  {
   "cell_type": "code",
   "execution_count": null,
   "metadata": {},
   "outputs": [],
   "source": [
    "from biotransformers import BioTransformers\n",
    "\n",
    "sequences = [\n",
    "        \"MKTVRQERLKSIVRILERSKEPVSGAQLAEELSVSRQVIVQDIAYLRSLGYNIVATPRGYVLAGG\",\n",
    "        \"KALTARQQEVFDLIRDHISQTGMPPTRAEIAQRLGFRSPNAAEEHLKALARKGVIEIVSGASRGIRLLQEE\",\n",
    "    ]\n",
    "\n",
    "bio_trans = BioTransformers(backend=\"esm1_t6_43M_UR50S\",num_gpus=0)\n",
    "loglikelihood = bio_trans.compute_loglikelihood(sequences)\n",
    "loglikelihood"
   ]
  },
  {
   "cell_type": "markdown",
   "metadata": {},
   "source": [
    "## compute_mutation_score function\n",
    "\n",
    "To compute this metric, we need to provide to things:\n",
    "\n",
    "sequences: a list of sequence to score\n",
    "\n",
    "mutations: a list of sequence’ mutations. A sequence” mutations can be composed of multiple single mutations."
   ]
  },
  {
   "cell_type": "code",
   "execution_count": null,
   "metadata": {},
   "outputs": [],
   "source": [
    "from biotransformers import BioTransformers\n",
    "bio_trans = BioTransformers(\"esm1_t6_43M_UR50S\",num_gpus=0)\n",
    "\n",
    "sequences = [\"MAPSRKFFVGGNWKMNVVCAPPTAYIDFARQKLDPKI\",\n",
    "             \"AVAAQNCYKVTNGAFTGEISPGMIKDCGATWVVLGH\",\n",
    "             \"GRKQSLGELIGTLNAAKVPADTE\"]\n",
    "\n",
    "mutations = [[\"M1P\",\"K6F\",\"N12G\"],[\"A4V\"],[\"A15L\",\"V18A\"]]\n",
    "bio_trans.compute_mutation_score(sequences,mutations)"
   ]
  },
  {
   "cell_type": "markdown",
   "metadata": {},
   "source": [
    "pdb"
   ]
  },
  {
   "cell_type": "code",
   "execution_count": null,
   "metadata": {},
   "outputs": [],
   "source": [
    "!curl -X POST --data \"MKTVRQERLKSIVRILERSKEPVSGAQLAEELSVSRQVIVQDIAYLRSLGYNIVATPRGYVLAGG\" https://api.esmatlas.com/foldSequence/v1/pdb/ > test.pdb\n"
   ]
  }
 ],
 "metadata": {
  "kernelspec": {
   "display_name": "bio-transformers",
   "language": "python",
   "name": "python3"
  },
  "language_info": {
   "codemirror_mode": {
    "name": "ipython",
    "version": 3
   },
   "file_extension": ".py",
   "mimetype": "text/x-python",
   "name": "python",
   "nbconvert_exporter": "python",
   "pygments_lexer": "ipython3",
   "version": "3.10.13"
  },
  "orig_nbformat": 4
 },
 "nbformat": 4,
 "nbformat_minor": 2
}
